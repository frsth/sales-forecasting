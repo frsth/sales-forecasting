{
 "cells": [
  {
   "cell_type": "code",
   "execution_count": 40,
   "id": "9b9b3def",
   "metadata": {},
   "outputs": [],
   "source": [
    "import torch\n",
    "import torch.nn as nn\n",
    "import numpy as np\n",
    "import pandas as pd\n",
    "from sklearn.preprocessing import MinMaxScaler\n",
    "from sklearn.model_selection import train_test_split\n",
    "import holidays"
   ]
  },
  {
   "cell_type": "code",
   "execution_count": 43,
   "id": "62953b69",
   "metadata": {},
   "outputs": [],
   "source": [
    "def build_features(df):\n",
    "    daily_df = (df.groupby('datetime').agg(total_sales=('Sales', 'sum'), avg_discount=('Discount', 'mean')).reset_index())\n",
    "\n",
    "    # Fill all days\n",
    "    all_days_range = pd.date_range(start=daily_df['datetime'].min(), end=daily_df['datetime'].max()) \n",
    "    all_days = pd.DataFrame({'datetime': all_days_range})\n",
    "    # Merge with your daily data\n",
    "    daily_df = all_days.merge(daily_df, on='datetime', how='left')\n",
    "\n",
    "    # Replace NaN (days with no sales) by 0\n",
    "    daily_df['total_sales'] = daily_df['total_sales'].fillna(0)\n",
    "\n",
    "    # year\n",
    "    daily_df['year'] = daily_df['datetime'].dt.year\n",
    "\n",
    "    # month\n",
    "    daily_df['month'] = daily_df['datetime'].dt.month\n",
    "    daily_df['month_sin'] = np.sin(2 * np.pi * daily_df['month'] / 12)\n",
    "    daily_df['month_cos'] = np.cos(2 * np.pi * daily_df['month'] / 12)\n",
    "    daily_df.drop('month', axis = 1, inplace = True)\n",
    "\n",
    "    # week\n",
    "    daily_df['week_of_month'] = daily_df['datetime'].apply(lambda d: (d.day - 1) // 7 + 1)\n",
    "    daily_df['week_of_month_sin'] = np.sin(2 * np.pi * daily_df['week_of_month'] / 12)\n",
    "    daily_df['week_of_month_cos'] = np.cos(2 * np.pi * daily_df['week_of_month'] / 12)\n",
    "    daily_df.drop('week_of_month', axis = 1, inplace = True)\n",
    "\n",
    "    # day of week\n",
    "    daily_df['day_of_week'] = daily_df['datetime'].dt.dayofweek \n",
    "    daily_df['day_of_week_sin'] = np.sin(2 * np.pi * daily_df['day_of_week'] / 12)\n",
    "    daily_df['day_of_week_cos'] = np.cos(2 * np.pi * daily_df['day_of_week'] / 12)\n",
    "    daily_df.drop('day_of_week', axis = 1, inplace = True)\n",
    "\n",
    "    # is discount\n",
    "    daily_df['is_discount'] = daily_df['avg_discount'] > 0\n",
    "\n",
    "\n",
    "    # holiday\n",
    "    us_holidays  = holidays.CountryHoliday('US', years=range(2013, 2020))\n",
    "    canada_holidays = holidays.CountryHoliday('CA', years=range(2013, 2020))\n",
    "    holiday_dates =list(canada_holidays.keys())\n",
    "    holiday_dates.append(list(us_holidays.keys()))\n",
    "    daily_df['is_holiday'] = daily_df['datetime'].dt.date.isin(holiday_dates)\n",
    "\n",
    "    # lag1\n",
    "    daily_df['lag1'] = daily_df['total_sales'].shift(1)\n",
    "\n",
    "    # lag7\n",
    "    daily_df['lag7'] = daily_df['total_sales'].shift(7)\n",
    "\n",
    "    # Fill NaN avg discounts\n",
    "    daily_df['avg_discount'] = daily_df['avg_discount'].fillna(0)\n",
    "    \n",
    "    return daily_df"
   ]
  },
  {
   "cell_type": "code",
   "execution_count": 47,
   "id": "73c3dc31",
   "metadata": {},
   "outputs": [],
   "source": [
    "train_data_path = '../data/train_data.csv'\n",
    "raw_df = pd.read_csv(train_data_path)\n",
    "raw_df['datetime'] = pd.to_datetime(raw_df['datetime'])\n",
    "\n",
    "df = build_features(raw_df)\n",
    "\n",
    "# Start at day 7 to avoid NaNs in lag7\n",
    "df = df.iloc[7:]"
   ]
  },
  {
   "cell_type": "code",
   "execution_count": 48,
   "id": "37afe91a",
   "metadata": {},
   "outputs": [],
   "source": [
    "features = [f for f in df.columns if f != 'datetime']\n",
    "data = df[features].values\n",
    "\n",
    "\n",
    "# Normalize\n",
    "scaler = MinMaxScaler()\n",
    "data_scaled = scaler.fit_transform(data)"
   ]
  },
  {
   "cell_type": "code",
   "execution_count": 51,
   "id": "404f7e69",
   "metadata": {},
   "outputs": [],
   "source": [
    "\n",
    "# Create sequences\n",
    "def create_sequences(data, seq_length):\n",
    "    xs, ys = [], []\n",
    "    for i in range(len(data)-seq_length):\n",
    "        x = data[i:i+seq_length]\n",
    "        y = data[i+seq_length,0]\n",
    "        xs.append(x)\n",
    "        ys.append(y)\n",
    "    return np.array(xs), np.array(ys)\n",
    "\n",
    "SEQ_LENGTH = 30  # for example, use past 12 months\n",
    "X, y = create_sequences(data_scaled, SEQ_LENGTH)"
   ]
  },
  {
   "cell_type": "code",
   "execution_count": 52,
   "id": "6109332b",
   "metadata": {},
   "outputs": [],
   "source": [
    "input_size = X.shape[2]  # number of features\n",
    "\n",
    "class SalesLSTM(nn.Module):\n",
    "    def __init__(self, input_size, hidden_size=50, num_layers=2, output_size=1):\n",
    "        super(SalesLSTM, self).__init__()\n",
    "        self.hidden_size = hidden_size\n",
    "        self.num_layers = num_layers\n",
    "        \n",
    "        self.lstm = nn.LSTM(input_size, hidden_size, num_layers, batch_first=True)\n",
    "        self.fc = nn.Linear(hidden_size, output_size)\n",
    "    \n",
    "    def forward(self, x):\n",
    "        h0 = torch.zeros(self.num_layers, x.size(0), self.hidden_size)\n",
    "        c0 = torch.zeros(self.num_layers, x.size(0), self.hidden_size)\n",
    "        \n",
    "        out, _ = self.lstm(x, (h0, c0))\n",
    "        out = self.fc(out[:, -1, :])\n",
    "        return out\n",
    "\n",
    "model = SalesLSTM(input_size=input_size)\n"
   ]
  }
 ],
 "metadata": {
  "kernelspec": {
   "display_name": "forecasting_env",
   "language": "python",
   "name": "python3"
  },
  "language_info": {
   "codemirror_mode": {
    "name": "ipython",
    "version": 3
   },
   "file_extension": ".py",
   "mimetype": "text/x-python",
   "name": "python",
   "nbconvert_exporter": "python",
   "pygments_lexer": "ipython3",
   "version": "3.11.14"
  }
 },
 "nbformat": 4,
 "nbformat_minor": 5
}
