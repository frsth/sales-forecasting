{
 "cells": [
  {
   "cell_type": "code",
   "execution_count": null,
   "id": "50e778b4",
   "metadata": {},
   "outputs": [],
   "source": [
    "import lightgbm as lgb\n",
    "import pandas as pd\n",
    "from sklearn.model_selection import TimeSeriesSplit, cross_val_score\n",
    "from sklearn.metrics import mean_absolute_error\n",
    "\n",
    "df = pd.read_csv('../data/processed/train_data_processed.csv')\n",
    "df['datetime'] = pd.to_datetime(df['datetime'])\n"
   ]
  },
  {
   "cell_type": "code",
   "execution_count": null,
   "id": "90d75147",
   "metadata": {},
   "outputs": [],
   "source": [
    "df = df.copy()\n",
    "features = [c for c in df.columns if c not in [\"datetime\", \"total_sales\"]]\n",
    "split_index = int(len(df)*0.8)\n",
    "df_train = df.iloc[0:split_index]\n",
    "df_valid = df.iloc[split_index:]\n",
    "X = df_train[features]\n",
    "y = df_train[\"total_sales\"]\n",
    "\n",
    "tscv = TimeSeriesSplit(n_splits=5)\n",
    "\n",
    "#model = lgb.LGBMRegressor(learning_rate=0.011, max_depth=3, n_estimators=313, colsample_bytree=0.776)\n",
    "model = lgb.LGBMRegressor()\n",
    "\n",
    "scores = cross_val_score(model, X, y, cv=tscv, scoring=\"neg_mean_absolute_error\")"
   ]
  },
  {
   "cell_type": "code",
   "execution_count": null,
   "id": "2d220c22",
   "metadata": {},
   "outputs": [],
   "source": [
    "import seaborn as sns\n",
    "sns.set_theme()\n",
    "model.fit(X, y)\n",
    "X_valid = df_valid[features]\n",
    "y_valid = df_valid['total_sales']\n",
    "y_pred_valid = model.predict(X_valid)\n",
    "import matplotlib.pyplot as plt\n",
    "\n",
    "plt.figure(figsize=(15,5))\n",
    "plt.plot(y_valid.index, y_valid, label=\"Actual\", marker='o')\n",
    "plt.plot(y_valid.index, y_pred_valid, label=\"Predicted\", marker='o')\n",
    "plt.xlabel(\"Date\")\n",
    "plt.ylabel(\"Sales\")\n",
    "plt.title(\"Training set: Actual vs Predicted Sales\")\n",
    "plt.legend()\n",
    "plt.xlim([1150, 1280])"
   ]
  }
 ],
 "metadata": {
  "kernelspec": {
   "display_name": "base",
   "language": "python",
   "name": "python3"
  },
  "language_info": {
   "codemirror_mode": {
    "name": "ipython",
    "version": 3
   },
   "file_extension": ".py",
   "mimetype": "text/x-python",
   "name": "python",
   "nbconvert_exporter": "python",
   "pygments_lexer": "ipython3",
   "version": "3.13.5"
  }
 },
 "nbformat": 4,
 "nbformat_minor": 5
}
