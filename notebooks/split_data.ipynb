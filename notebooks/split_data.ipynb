{
 "cells": [
  {
   "cell_type": "code",
   "execution_count": 16,
   "id": "4be76eea",
   "metadata": {},
   "outputs": [],
   "source": [
    "import pandas as pd\n",
    "import datetime\n",
    "path = '../data/stores_sales_forecasting.csv'\n",
    "df = pd.read_csv(path, encoding = 'latin1')\n",
    "df['datetime'] = pd.to_datetime(df['Order Date'])\n",
    "df.sort_values(by = 'datetime', ascending = True, inplace = True)\n",
    "\n",
    "split_index = int(len(df) * 0.8)\n",
    "\n",
    "train_df = df.iloc[0:split_index]\n",
    "test_df = df[split_index:]"
   ]
  },
  {
   "cell_type": "code",
   "execution_count": 18,
   "id": "a4564a56",
   "metadata": {},
   "outputs": [],
   "source": [
    "train_df.to_csv('../data/train_data.csv', index = False)\n",
    "test_df.to_csv('../data/test_data.csv', index = False)"
   ]
  }
 ],
 "metadata": {
  "kernelspec": {
   "display_name": "base",
   "language": "python",
   "name": "python3"
  },
  "language_info": {
   "codemirror_mode": {
    "name": "ipython",
    "version": 3
   },
   "file_extension": ".py",
   "mimetype": "text/x-python",
   "name": "python",
   "nbconvert_exporter": "python",
   "pygments_lexer": "ipython3",
   "version": "3.12.3"
  }
 },
 "nbformat": 4,
 "nbformat_minor": 5
}
